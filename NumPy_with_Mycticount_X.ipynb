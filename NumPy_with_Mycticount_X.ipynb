{
  "nbformat": 4,
  "nbformat_minor": 0,
  "metadata": {
    "colab": {
      "provenance": []
    },
    "kernelspec": {
      "name": "python3",
      "display_name": "Python 3"
    },
    "language_info": {
      "name": "python"
    }
  },
  "cells": [
    {
      "cell_type": "markdown",
      "source": [
        "### NumPy with Mycticount X"
      ],
      "metadata": {
        "id": "dj90rMj7MWs0"
      }
    },
    {
      "cell_type": "markdown",
      "source": [
        "Saya membuat ini atas refrensi dari Buku **\"Python Machine Learning Cookbook\"** by **Chris Albon**.\n",
        "Bukunya sangat rekomen buat kalian yang pemula Machine Learning dan Data Scientist"
      ],
      "metadata": {
        "id": "9m9Ema6zQL3F"
      }
    },
    {
      "cell_type": "code",
      "execution_count": null,
      "metadata": {
        "id": "FoBLxocSMOWb"
      },
      "outputs": [],
      "source": [
        "import numpy as np"
      ]
    },
    {
      "cell_type": "markdown",
      "source": [
        "## 1. Vector and Array"
      ],
      "metadata": {
        "id": "4ANJ0hZPOA5J"
      }
    },
    {
      "cell_type": "code",
      "source": [
        "row_vector = np.array([1, 2, 3])\n",
        "row_vector"
      ],
      "metadata": {
        "colab": {
          "base_uri": "https://localhost:8080/"
        },
        "id": "ePd67d9JOOPb",
        "outputId": "a483ff53-8a34-4f4d-dc27-83b8e7da92a3"
      },
      "execution_count": null,
      "outputs": [
        {
          "output_type": "execute_result",
          "data": {
            "text/plain": [
              "array([1, 2, 3])"
            ]
          },
          "metadata": {},
          "execution_count": 5
        }
      ]
    },
    {
      "cell_type": "code",
      "source": [
        "col_vector = np.array([[1],\n",
        "                  [2],\n",
        "                  [3]])\n",
        "col_vector"
      ],
      "metadata": {
        "colab": {
          "base_uri": "https://localhost:8080/"
        },
        "id": "otkjm9KOO1uB",
        "outputId": "de0a217a-c994-4ec5-a301-493e74849644"
      },
      "execution_count": null,
      "outputs": [
        {
          "output_type": "execute_result",
          "data": {
            "text/plain": [
              "array([[1],\n",
              "       [2],\n",
              "       [3]])"
            ]
          },
          "metadata": {},
          "execution_count": 6
        }
      ]
    },
    {
      "cell_type": "markdown",
      "source": [
        "## 2. Matrix"
      ],
      "metadata": {
        "id": "x5VVliEeO7cZ"
      }
    },
    {
      "cell_type": "code",
      "source": [
        "# Standard Matrix\n",
        "mtx = np.array([[1, 2, 3],\n",
        "                [4, 5, 6],\n",
        "                [7, 8, 9]])\n"
      ],
      "metadata": {
        "colab": {
          "base_uri": "https://localhost:8080/"
        },
        "id": "ViNUT-phPBxJ",
        "outputId": "f94243f1-c346-4a1f-d813-18be8810a3a2"
      },
      "execution_count": null,
      "outputs": [
        {
          "output_type": "execute_result",
          "data": {
            "text/plain": [
              "array([[1, 2, 3],\n",
              "       [4, 5, 6],\n",
              "       [7, 8, 9]])"
            ]
          },
          "metadata": {},
          "execution_count": 7
        }
      ]
    },
    {
      "cell_type": "code",
      "source": [
        "# Inverse Matrix\n",
        "mtx = np.array([[1, 2, 3],\n",
        "                [4, 5, 6],\n",
        "                [7, 8, 9]])\n",
        "\n",
        "try :\n",
        "  mtx_inv = np.linalg.inv(mtx)\n",
        "  mtx_inv\n",
        "except :\n",
        "  print(\"Singular Matrix\")\n",
        "  print(\"Determinant : \", np.linalg.det(mtx))"
      ],
      "metadata": {
        "colab": {
          "base_uri": "https://localhost:8080/"
        },
        "id": "PfR8Mg2uPS4h",
        "outputId": "46d21c03-b9de-4f84-a4d9-a26c64166e87"
      },
      "execution_count": null,
      "outputs": [
        {
          "output_type": "stream",
          "name": "stdout",
          "text": [
            "Singular Matrix\n",
            "Determinant :  0.0\n"
          ]
        }
      ]
    },
    {
      "cell_type": "code",
      "source": [
        "# Btw NumPy punya function tersendiri buat Matrix\n",
        "mtx = np.matrix([[1, 2, 3],\n",
        "                [4, 5, 6],\n",
        "                [7, 8, 9]])\n",
        "\n",
        "mtx\n"
      ],
      "metadata": {
        "colab": {
          "base_uri": "https://localhost:8080/"
        },
        "id": "fXK9KlwxP45g",
        "outputId": "b7669be4-6109-4099-85ac-c61defa23bb0"
      },
      "execution_count": null,
      "outputs": [
        {
          "output_type": "execute_result",
          "data": {
            "text/plain": [
              "matrix([[1, 2, 3],\n",
              "        [4, 5, 6],\n",
              "        [7, 8, 9]])"
            ]
          },
          "metadata": {},
          "execution_count": 12
        }
      ]
    },
    {
      "cell_type": "markdown",
      "source": [
        "## 3. Sparse Matrix"
      ],
      "metadata": {
        "id": "f4OGtGkrPSdg"
      }
    },
    {
      "cell_type": "markdown",
      "source": [
        "Sparse Matrix dalam Python adalah matriks yang sebagian besar elemennya bernilai nol atau kosong, sehingga penyimpanan dan operasinya lebih efisien menggunakan struktur data khusus. Alih-alih menyimpan semua elemen dalam array 2D biasa, sparse matrix hanya menyimpan elemen yang bukan nol beserta indeksnya."
      ],
      "metadata": {
        "id": "efbIsp63Qyqs"
      }
    },
    {
      "cell_type": "code",
      "source": [
        "# Sparse Matrix\n",
        "from scipy import sparse\n",
        "\n",
        "dense_matrix = np.array([\n",
        "    [0, 0, 3],\n",
        "    [4, 0, 0],\n",
        "    [0, 5, 0]\n",
        "])\n",
        "\n",
        "sparse_matrix = sparse.csr_matrix(dense_matrix)\n",
        "print(sparse_matrix)\n"
      ],
      "metadata": {
        "colab": {
          "base_uri": "https://localhost:8080/"
        },
        "id": "baxwpp4vQy5Z",
        "outputId": "0f45abef-760c-485d-cd9c-af114e15a295"
      },
      "execution_count": null,
      "outputs": [
        {
          "output_type": "stream",
          "name": "stdout",
          "text": [
            "  (0, 2)\t3\n",
            "  (1, 0)\t4\n",
            "  (2, 1)\t5\n"
          ]
        }
      ]
    },
    {
      "cell_type": "markdown",
      "source": [
        "Elemen 3 berada di baris 0, kolom 2 → (0, 2) 3\n",
        "\n",
        "Elemen 4 berada di baris 1, kolom 0 → (1, 0) 4\n",
        "\n",
        "Elemen 5 berada di baris 2, kolom 1 → (2, 1) 5"
      ],
      "metadata": {
        "id": "_0KdKsDmPAui"
      }
    },
    {
      "cell_type": "markdown",
      "source": [
        "## 4. Element"
      ],
      "metadata": {
        "id": "n8ZdZvnASD7v"
      }
    },
    {
      "cell_type": "code",
      "source": [
        "# Selecting Element\n",
        "vtr = np.array([1, 2, 3, 4, 5])\n",
        "mtx = np.array([[1, 2, 3],\n",
        "                [4, 5, 6],\n",
        "                [7, 8, 9]])\n",
        "\n",
        "# Python Slicing Techinique: Vector Form\n",
        "print(vtr[:])\n",
        "print(vtr[1:3])\n",
        "print(vtr[1:])\n",
        "print(vtr[:-1])\n",
        "print(vtr[::2])\n",
        "\n",
        "# Pengguna C terdiam melihat ini:\n",
        "print(vtr[::-1])\n"
      ],
      "metadata": {
        "colab": {
          "base_uri": "https://localhost:8080/"
        },
        "id": "0a6oB4r3SDBL",
        "outputId": "de3b7018-0ece-445f-ff79-37a747649109"
      },
      "execution_count": null,
      "outputs": [
        {
          "output_type": "stream",
          "name": "stdout",
          "text": [
            "[1 2 3 4 5]\n",
            "[2 3]\n",
            "[2 3 4 5]\n",
            "[1 2 3 4]\n",
            "[1 3 5]\n",
            "[5 4 3 2 1]\n"
          ]
        }
      ]
    },
    {
      "cell_type": "markdown",
      "source": [
        "## 5. STS: Shape, Size, Dimension"
      ],
      "metadata": {
        "id": "QABOJ05TTc60"
      }
    },
    {
      "cell_type": "code",
      "source": [
        "# Sekedar Tahu Saja: Shape, Size, dan Dimension\n",
        "\n",
        "mtx = np.array([[1, 2, 3],\n",
        "                [4, 5, 6],\n",
        "                [7, 8, 9]])\n",
        "\n",
        "# Shape: Mengembalikan tuple: dimensi\n",
        "print(\"Shape:\", mtx.shape) # Output: (3, 3) -> 3 baris, 3 kolom\n",
        "\n",
        "# Size: Mengembalikan int: total elemen\n",
        "print(\"Size:\", mtx.size)  # Output: 9 -> total 9 elemen\n",
        "\n",
        "# ndim: Mengembalikan int: jumlah dimensi\n",
        "print(\"Dimension:\", mtx.ndim)  # Output: 2 -> matriks 2 dimensi (baris dan kolom)\n",
        "\n"
      ],
      "metadata": {
        "colab": {
          "base_uri": "https://localhost:8080/"
        },
        "id": "ooYOIfblTg5i",
        "outputId": "65c4c433-eb98-4c29-8753-4ce5d39e3bc0"
      },
      "execution_count": null,
      "outputs": [
        {
          "output_type": "stream",
          "name": "stdout",
          "text": [
            "Shape: (3, 3)\n",
            "Size: 9\n",
            "Dimension: 2\n"
          ]
        }
      ]
    },
    {
      "cell_type": "code",
      "source": [
        "vtr = np.array([1, 2, 3, 4, 5])\n",
        "\n",
        "# Shape: Mengembalikan tuple yang menunjukkan dimensi vektor\n",
        "print(\"Shape:\", vtr.shape)  # Output: (5,) -> vektor 1 dimensi dengan 5 elemen\n",
        "\n",
        "# Size: Mengembalikan jumlah total elemen dalam vektor\n",
        "print(\"Size:\", vtr.size)  # Output: 5 -> total 5 elemen\n",
        "\n",
        "# ndim: Mengembalikan jumlah dimensi vektor\n",
        "print(\"Dimension:\", vtr.ndim)  # Output: 1 -> vektor 1 dimensi\n"
      ],
      "metadata": {
        "colab": {
          "base_uri": "https://localhost:8080/"
        },
        "id": "UshE-XOFUXt5",
        "outputId": "8fc4ce1c-6afa-42fa-a307-20f89ef35cd4"
      },
      "execution_count": null,
      "outputs": [
        {
          "output_type": "stream",
          "name": "stdout",
          "text": [
            "Shape: (5,)\n",
            "Size: 5\n",
            "Dimension: 1\n"
          ]
        }
      ]
    },
    {
      "cell_type": "markdown",
      "source": [
        "## 6. Operasi"
      ],
      "metadata": {
        "id": "hC8J6DKRUqZE"
      }
    },
    {
      "cell_type": "code",
      "source": [
        "# Operasi NumPy\n",
        "matrix = np.array([[1, 2, 3],\n",
        "                  [4, 5, 6],\n",
        "                  [7, 8, 9]])\n",
        "\n",
        "matrix = matrix + 100\n",
        "print(matrix)"
      ],
      "metadata": {
        "colab": {
          "base_uri": "https://localhost:8080/"
        },
        "id": "EIYQjylAUqEG",
        "outputId": "de1061e2-2d45-47dd-e7f0-c7d301c709b2"
      },
      "execution_count": null,
      "outputs": [
        {
          "output_type": "stream",
          "name": "stdout",
          "text": [
            "[[101 102 103]\n",
            " [104 105 106]\n",
            " [107 108 109]]\n"
          ]
        }
      ]
    },
    {
      "cell_type": "code",
      "source": [
        "# Ini namanya gabutz\n",
        "matrix = np.array([[1, 2, 3],\n",
        "                  [4, 5, 6],\n",
        "                  [7, 8, 9]])\n",
        "\n",
        "# Baca: Fungsi Lambda menerima i : mengembalikan i + 100\n",
        "adder = lambda i : i + 100\n",
        "\n",
        "# Baca: Lancarkan fungsi add untuk setiap index matrix\n",
        "matrix = np.vectorize(adder)(matrix)\n",
        "\n",
        "print(matrix)"
      ],
      "metadata": {
        "colab": {
          "base_uri": "https://localhost:8080/"
        },
        "id": "8TejwCvTVNS3",
        "outputId": "55edc05f-41d1-4bee-ac9c-c61c0f4f5be3"
      },
      "execution_count": null,
      "outputs": [
        {
          "output_type": "stream",
          "name": "stdout",
          "text": [
            "[[101 102 103]\n",
            " [104 105 106]\n",
            " [107 108 109]]\n"
          ]
        }
      ]
    },
    {
      "cell_type": "code",
      "source": [
        "# Max und Min\n",
        "matrix = np.array([[1, 2, 3],\n",
        "                  [4, 5, 6],\n",
        "                  [7, 8, 9]])\n",
        "\n",
        "print(\"Max:\", np.max(matrix))\n",
        "print(\"Min:\", np.min(matrix))"
      ],
      "metadata": {
        "colab": {
          "base_uri": "https://localhost:8080/"
        },
        "id": "QwTECdcsWQpT",
        "outputId": "7cc2bff8-7ace-42bb-94d6-304cbda34b2a"
      },
      "execution_count": null,
      "outputs": [
        {
          "output_type": "stream",
          "name": "stdout",
          "text": [
            "Max: 9\n",
            "Min: 1\n"
          ]
        }
      ]
    },
    {
      "cell_type": "code",
      "source": [
        "# Matrix Dot Product\n",
        "matrix = np.array([[1, 2, 3],\n",
        "                  [4, 5, 6],\n",
        "                  [7, 8, 9]])\n",
        "\n",
        "print(f\"Dot Product:\\n\", np.dot(matrix, matrix))\n",
        "print(matrix @ matrix)"
      ],
      "metadata": {
        "colab": {
          "base_uri": "https://localhost:8080/"
        },
        "id": "8YAjRqfnxAJC",
        "outputId": "d023ffe8-3543-4f22-cdae-af58a28e2f83"
      },
      "execution_count": 49,
      "outputs": [
        {
          "output_type": "stream",
          "name": "stdout",
          "text": [
            "Dot Product:\n",
            " [[ 30  36  42]\n",
            " [ 66  81  96]\n",
            " [102 126 150]]\n",
            "[[ 30  36  42]\n",
            " [ 66  81  96]\n",
            " [102 126 150]]\n"
          ]
        }
      ]
    },
    {
      "cell_type": "code",
      "source": [
        "# Matrix Cross Product\n",
        "matrix = np.array([[1, 2, 3],\n",
        "                  [4, 5, 6],\n",
        "                  [7, 8, 9]])\n",
        "\n",
        "print(f\"Cross Product:\\n\",np.cross(matrix, matrix))"
      ],
      "metadata": {
        "colab": {
          "base_uri": "https://localhost:8080/"
        },
        "id": "GxK9zeONxI5x",
        "outputId": "6603b71e-3c5e-4a7b-f6bf-ae574e43d13c"
      },
      "execution_count": 50,
      "outputs": [
        {
          "output_type": "stream",
          "name": "stdout",
          "text": [
            "Cross Product:\n",
            " [[0 0 0]\n",
            " [0 0 0]\n",
            " [0 0 0]]\n"
          ]
        }
      ]
    },
    {
      "cell_type": "code",
      "source": [
        "# Matrix Operation\n",
        "matrix = np.array([[1, 2, 3],\n",
        "                  [4, 5, 6],\n",
        "                  [7, 8, 9]])\n",
        "\n",
        "print(matrix + matrix)\n",
        "print(matrix - matrix)\n",
        "print(matrix * matrix) # Element Wise\n",
        "print(matrix / matrix)"
      ],
      "metadata": {
        "colab": {
          "base_uri": "https://localhost:8080/"
        },
        "id": "Psj6VZcdx0li",
        "outputId": "aa2ef9b0-ef52-4331-d312-67d2d9478c96"
      },
      "execution_count": 52,
      "outputs": [
        {
          "output_type": "stream",
          "name": "stdout",
          "text": [
            "[[ 2  4  6]\n",
            " [ 8 10 12]\n",
            " [14 16 18]]\n",
            "[[0 0 0]\n",
            " [0 0 0]\n",
            " [0 0 0]]\n",
            "[[ 1  4  9]\n",
            " [16 25 36]\n",
            " [49 64 81]]\n",
            "[[1. 1. 1.]\n",
            " [1. 1. 1.]\n",
            " [1. 1. 1.]]\n"
          ]
        }
      ]
    },
    {
      "cell_type": "markdown",
      "source": [
        "## 7. Basic Statistic"
      ],
      "metadata": {
        "id": "2Izil8sgex8D"
      }
    },
    {
      "cell_type": "code",
      "source": [
        "# Average / Mean\n",
        "matrix = np.array([[1, 2, 3],\n",
        "                  [4, 5, 6],\n",
        "                  [7, 8, 9]])\n",
        "\n",
        "print(\"Average:\", np.mean(matrix))"
      ],
      "metadata": {
        "colab": {
          "base_uri": "https://localhost:8080/"
        },
        "id": "Z5DNjanOfGRU",
        "outputId": "d5bafff8-d213-4a9c-eb83-883629e4f7f4"
      },
      "execution_count": null,
      "outputs": [
        {
          "output_type": "stream",
          "name": "stdout",
          "text": [
            "Average: 5.0\n"
          ]
        }
      ]
    },
    {
      "cell_type": "code",
      "source": [
        "# Variance\n",
        "matrix = np.array([[1, 2, 3],\n",
        "                  [4, 5, 6],\n",
        "                  [7, 8, 9]])\n",
        "\n",
        "print(\"Variance:\", np.var(matrix))\n"
      ],
      "metadata": {
        "colab": {
          "base_uri": "https://localhost:8080/"
        },
        "id": "15g_HWycfUau",
        "outputId": "a528031f-32a0-4124-d39c-75bac3926e8a"
      },
      "execution_count": null,
      "outputs": [
        {
          "output_type": "stream",
          "name": "stdout",
          "text": [
            "Variance: 6.666666666666667\n"
          ]
        }
      ]
    },
    {
      "cell_type": "code",
      "source": [
        "matrix = np.array([[1, 2, 3],\n",
        "                  [4, 5, 6],\n",
        "                  [7, 8, 9]])\n",
        "\n",
        "print(\"Standard Deviation:\", np.std(matrix))\n"
      ],
      "metadata": {
        "colab": {
          "base_uri": "https://localhost:8080/"
        },
        "id": "1ouSjXhMfZJJ",
        "outputId": "3473dcbf-7698-41a3-d3fb-d4eabf47630b"
      },
      "execution_count": null,
      "outputs": [
        {
          "output_type": "stream",
          "name": "stdout",
          "text": [
            "Standard Deviation: 2.581988897471611\n"
          ]
        }
      ]
    },
    {
      "cell_type": "markdown",
      "source": [
        "## 8. Matrix Signature"
      ],
      "metadata": {
        "id": "czu59J03f-hk"
      }
    },
    {
      "cell_type": "code",
      "source": [
        "# Matrix Reshape\n",
        "matrix = np.array([[1, 2, 3],\n",
        "                  [4, 5, 6],\n",
        "                  [7, 8, 9],\n",
        "                   [10, 11, 12]])\n",
        "\n",
        "print(matrix.reshape(2, 6))"
      ],
      "metadata": {
        "colab": {
          "base_uri": "https://localhost:8080/"
        },
        "id": "svP08mu1qMaY",
        "outputId": "908d451a-2160-447d-fbc8-36560f917b02"
      },
      "execution_count": 26,
      "outputs": [
        {
          "output_type": "stream",
          "name": "stdout",
          "text": [
            "[[ 1  2  3  4  5  6]\n",
            " [ 7  8  9 10 11 12]]\n"
          ]
        }
      ]
    },
    {
      "cell_type": "code",
      "source": [
        "# Reshaper -1 \"As Many As Needed\"\n",
        "matrix = np.array([[1, 2, 3],\n",
        "                  [4, 5, 6],\n",
        "                  [7, 8, 9],\n",
        "                   [10, 11, 12]])\n",
        "\n",
        "print(matrix.reshape(2, -1))\n",
        "print(matrix.reshape(-1, 3))\n",
        "\n",
        "# Reshaper single int\n",
        "print(matrix.reshape(12))\n",
        "\n",
        "# Tidak Bisa: print(matrix.reshape(10))"
      ],
      "metadata": {
        "colab": {
          "base_uri": "https://localhost:8080/"
        },
        "id": "iZar0Ul5qhE3",
        "outputId": "a7e0656e-7cda-45e1-9a9c-547c1fc150d9"
      },
      "execution_count": 30,
      "outputs": [
        {
          "output_type": "stream",
          "name": "stdout",
          "text": [
            "[[ 1  2  3  4  5  6]\n",
            " [ 7  8  9 10 11 12]]\n",
            "[[ 1  2  3]\n",
            " [ 4  5  6]\n",
            " [ 7  8  9]\n",
            " [10 11 12]]\n",
            "[ 1  2  3  4  5  6  7  8  9 10 11 12]\n"
          ]
        }
      ]
    },
    {
      "cell_type": "code",
      "source": [
        "# Matrix Transpose\n",
        "matrix = np.array([[1, 2, 3],\n",
        "                  [4, 5, 6],\n",
        "                  [7, 8, 9]])\n",
        "\n",
        "print(matrix.T)"
      ],
      "metadata": {
        "colab": {
          "base_uri": "https://localhost:8080/"
        },
        "id": "cviYhV2orXzP",
        "outputId": "5e2f2f7c-1b45-45b2-93e6-a59b98a32d43"
      },
      "execution_count": 31,
      "outputs": [
        {
          "output_type": "stream",
          "name": "stdout",
          "text": [
            "[[1 4 7]\n",
            " [2 5 8]\n",
            " [3 6 9]]\n"
          ]
        }
      ]
    },
    {
      "cell_type": "code",
      "source": [
        "# Ada hal unik ketika kalian transpos Vektor\n",
        "\n",
        "# Tipe 1\n",
        "vektor = np.array([1, 2, 3, 4, 5, 6])\n",
        "print(vektor.T) # NumPy menganggap ini benda 1D gaboleh ditranspose / ditranspose ujungnya sama aja\n",
        "\n",
        "# Tipe 2\n",
        "vektor_col = np.array([[1, 2, 3, 4, 5, 6]])\n",
        "print(vektor_col.T)\n"
      ],
      "metadata": {
        "colab": {
          "base_uri": "https://localhost:8080/"
        },
        "id": "AXAHCXETreW4",
        "outputId": "341be025-d162-4b50-bd5f-4bea6ad25d68"
      },
      "execution_count": 32,
      "outputs": [
        {
          "output_type": "stream",
          "name": "stdout",
          "text": [
            "[1 2 3 4 5 6]\n",
            "[[1]\n",
            " [2]\n",
            " [3]\n",
            " [4]\n",
            " [5]\n",
            " [6]]\n"
          ]
        }
      ]
    },
    {
      "cell_type": "code",
      "source": [
        "# Flattening Matrix\n",
        "matrix = np.array([[1, 2, 3],\n",
        "                  [4, 5, 6],\n",
        "                  [7, 8, 9]])\n",
        "\n",
        "print(matrix.flatten())\n",
        "\n",
        "# or\n",
        "print(matrix.reshape(1, -1))"
      ],
      "metadata": {
        "colab": {
          "base_uri": "https://localhost:8080/"
        },
        "id": "YB3IqLpWsfOW",
        "outputId": "cb746b4c-6539-4bc7-e3cf-3ad878ffaf10"
      },
      "execution_count": 34,
      "outputs": [
        {
          "output_type": "stream",
          "name": "stdout",
          "text": [
            "[1 2 3 4 5 6 7 8 9]\n",
            "[[1 2 3 4 5 6 7 8 9]]\n"
          ]
        }
      ]
    },
    {
      "cell_type": "markdown",
      "source": [
        "## 9. Linear Algebra\n",
        "\n",
        "Ada modul dalam NumPy bernama linalg, bisa dipake buat \"nyontek\" jawaban Linear Algebra bagian Matrix dan Vektor"
      ],
      "metadata": {
        "id": "Vg50UULptBPg"
      }
    },
    {
      "cell_type": "markdown",
      "source": [
        "Rank itu dipake buat ngecek apakah sistem persamaan linear itu **memiliki solusi yang unik** (Ga punya Infinite Solution). Rank ngecek **berapa banyak baris yang unik**\n",
        "\n",
        "2 4 6\n",
        "\n",
        "1 2 3\n",
        "\n",
        "3 6 9\n",
        "\n",
        "Ini tidak unik, rank = 1 karena\n",
        "- Row1 = 2 x Row2\n",
        "- Row3 = 3 x Row1"
      ],
      "metadata": {
        "id": "GKFQDz46t_Ja"
      }
    },
    {
      "cell_type": "code",
      "source": [
        "# Rank of Matrix\n",
        "matrix = np.array([[1, 2, 3],\n",
        "                  [2, 4, 6],\n",
        "                  [3, 6, 9]])\n",
        "\n",
        "print(\"Rank: \", np.linalg.matrix_rank(matrix))\n",
        "\n",
        "matrix = np.array([[1, 2, 3],\n",
        "                  [4, 5, 6],\n",
        "                  [7, 8, 9]])\n",
        "\n",
        "print(\"Rank: \", np.linalg.matrix_rank(matrix))"
      ],
      "metadata": {
        "colab": {
          "base_uri": "https://localhost:8080/"
        },
        "id": "4q1DQfL-skef",
        "outputId": "f12c502d-53fd-4263-f885-26f2ade5eb96"
      },
      "execution_count": 39,
      "outputs": [
        {
          "output_type": "stream",
          "name": "stdout",
          "text": [
            "Rank:  1\n",
            "Rank:  2\n"
          ]
        }
      ]
    },
    {
      "cell_type": "code",
      "source": [
        "# Determinan Matrix\n",
        "matrix = np.array([[1, 2, 3],\n",
        "                  [4, 5, 6],\n",
        "                  [7, 8, 9]])\n",
        "\n",
        "print(\"Determinant: \", np.linalg.det(matrix))"
      ],
      "metadata": {
        "colab": {
          "base_uri": "https://localhost:8080/"
        },
        "id": "9lV35phwvjDW",
        "outputId": "b33b4ab6-7eba-4cd9-a46c-2a9b6e1b4d25"
      },
      "execution_count": 40,
      "outputs": [
        {
          "output_type": "stream",
          "name": "stdout",
          "text": [
            "Determinant:  0.0\n"
          ]
        }
      ]
    },
    {
      "cell_type": "code",
      "source": [
        "# Determinan\n",
        "matrix = np.array([[1, 2, 3],\n",
        "                  [4, 5, 6],\n",
        "                  [7, 8, 9]])\n",
        "\n",
        "print(\"Diagonal: \", matrix.diagonal())"
      ],
      "metadata": {
        "id": "HRCOQreDvrQe"
      },
      "execution_count": null,
      "outputs": []
    },
    {
      "cell_type": "code",
      "source": [
        "# Trace\n",
        "matrix = np.array([[1, 2, 3],\n",
        "                  [4, 5, 6],\n",
        "                  [7, 8, 9]])\n",
        "\n",
        "print(\"Trace: \", matrix.trace())"
      ],
      "metadata": {
        "id": "xXSoQ-77v1vk"
      },
      "execution_count": null,
      "outputs": []
    },
    {
      "cell_type": "code",
      "source": [
        "# Eigen Value and Eigen Vector\n",
        "matrix = np.array([[2, 0, 0, 0],\n",
        "                  [1, 4, 0, 1],\n",
        "                  [3, 1, 5, 2],\n",
        "                  [0, 0, 0, 1]])\n",
        "\n",
        "eigenvalues, eigenvectors = np.linalg.eig(matrix)\n",
        "print(\"Eigenvalues: \", eigenvalues)\n",
        "print(\"Eigenvectors: \", eigenvectors)"
      ],
      "metadata": {
        "colab": {
          "base_uri": "https://localhost:8080/"
        },
        "id": "U10e02hWv7Pt",
        "outputId": "dc983c14-cbd6-47dc-e29e-afd8ab866c3c"
      },
      "execution_count": 42,
      "outputs": [
        {
          "output_type": "stream",
          "name": "stdout",
          "text": [
            "Eigenvalues:  [5. 4. 2. 1.]\n",
            "Eigenvectors:  [[ 0.          0.          0.71713717  0.        ]\n",
            " [ 0.          0.70710678 -0.35856858 -0.29408585]\n",
            " [ 1.         -0.70710678 -0.5976143  -0.36760731]\n",
            " [ 0.          0.          0.          0.88225755]]\n"
          ]
        }
      ]
    },
    {
      "cell_type": "code",
      "source": [
        "# Matrix Inversion\n",
        "matrix = np.array([[1, 2, 3],\n",
        "                  [4, 5, 6],\n",
        "                  [7, 8, 9]])\n",
        "\n",
        "print(\"Inverse: \", np.linalg.inv(matrix))"
      ],
      "metadata": {
        "id": "gxWNhgdYwzls"
      },
      "execution_count": null,
      "outputs": []
    },
    {
      "cell_type": "markdown",
      "source": [
        "## 10. Random Matrix Generator"
      ],
      "metadata": {
        "id": "gewmcNGvyYqQ"
      }
    },
    {
      "cell_type": "code",
      "source": [
        "np.random.seed(0) # Set seed, Satu Seed bakalan sama terus outputnya\n",
        "np.random.random(3)"
      ],
      "metadata": {
        "colab": {
          "base_uri": "https://localhost:8080/"
        },
        "id": "3YYyWKy2yYC2",
        "outputId": "bc01d2dd-9d6a-46c0-d840-99135c091a75"
      },
      "execution_count": 53,
      "outputs": [
        {
          "output_type": "execute_result",
          "data": {
            "text/plain": [
              "array([0.5488135 , 0.71518937, 0.60276338])"
            ]
          },
          "metadata": {},
          "execution_count": 53
        }
      ]
    },
    {
      "cell_type": "markdown",
      "source": [
        "**Format: (From, To, Size)**"
      ],
      "metadata": {
        "id": "byXvur44zAUE"
      }
    },
    {
      "cell_type": "code",
      "source": [
        "# Random Int\n",
        "np.random.randint(0, 11, 3)"
      ],
      "metadata": {
        "colab": {
          "base_uri": "https://localhost:8080/"
        },
        "id": "rewNr0sXyzLt",
        "outputId": "6a1e4b04-8238-46cf-9d72-47a4fd5b323b"
      },
      "execution_count": 54,
      "outputs": [
        {
          "output_type": "execute_result",
          "data": {
            "text/plain": [
              "array([3, 7, 9])"
            ]
          },
          "metadata": {},
          "execution_count": 54
        }
      ]
    },
    {
      "cell_type": "code",
      "source": [
        "# Random Normal\n",
        "np.random.normal(0, 1, 3)"
      ],
      "metadata": {
        "colab": {
          "base_uri": "https://localhost:8080/"
        },
        "id": "zcqBbZrXy54Y",
        "outputId": "66de0a4c-7ac6-48ed-cc28-c39af6fc881d"
      },
      "execution_count": 55,
      "outputs": [
        {
          "output_type": "execute_result",
          "data": {
            "text/plain": [
              "array([-1.42232584,  1.52006949, -0.29139398])"
            ]
          },
          "metadata": {},
          "execution_count": 55
        }
      ]
    },
    {
      "cell_type": "code",
      "source": [
        "# Random Logistic\n",
        "# Format: (Loc / Mean, Scale, Size)\n",
        "np.random.logistic(0, 1, 3)\n"
      ],
      "metadata": {
        "colab": {
          "base_uri": "https://localhost:8080/"
        },
        "id": "uok3-VU6zIs4",
        "outputId": "43f6e101-396a-49ca-8203-9254ab21ecc1"
      },
      "execution_count": 57,
      "outputs": [
        {
          "output_type": "execute_result",
          "data": {
            "text/plain": [
              "array([-0.08013416, -0.4356214 ,  1.62933678])"
            ]
          },
          "metadata": {},
          "execution_count": 57
        }
      ]
    },
    {
      "cell_type": "code",
      "source": [
        "# Random Uniform\n",
        "# Tipe Random tapi ga boleh sama dengan si Parameter pengapitnya\n",
        "np.random.uniform(0, 1, 3)"
      ],
      "metadata": {
        "colab": {
          "base_uri": "https://localhost:8080/"
        },
        "id": "saDML_QozrDF",
        "outputId": "7e350c11-e281-4f14-80a6-72150fcc49e7"
      },
      "execution_count": 58,
      "outputs": [
        {
          "output_type": "execute_result",
          "data": {
            "text/plain": [
              "array([0.33739616, 0.64817187, 0.36824154])"
            ]
          },
          "metadata": {},
          "execution_count": 58
        }
      ]
    }
  ]
}