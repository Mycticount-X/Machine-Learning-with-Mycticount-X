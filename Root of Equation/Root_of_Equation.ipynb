{
  "nbformat": 4,
  "nbformat_minor": 0,
  "metadata": {
    "colab": {
      "provenance": []
    },
    "kernelspec": {
      "name": "python3",
      "display_name": "Python 3"
    },
    "language_info": {
      "name": "python"
    }
  },
  "cells": [
    {
      "cell_type": "markdown",
      "source": [
        "# **Root of Equation**"
      ],
      "metadata": {
        "id": "gcD8I0BbPy0i"
      }
    },
    {
      "cell_type": "code",
      "source": [
        "import numpy as np\n",
        "from scipy.optimize import bisect\n",
        "from scipy.optimize import newton"
      ],
      "metadata": {
        "id": "fMp8IGESQhxu"
      },
      "execution_count": 34,
      "outputs": []
    },
    {
      "cell_type": "markdown",
      "source": [
        "## 1. Bisection Method"
      ],
      "metadata": {
        "id": "2Fy69WyaP3Mm"
      }
    },
    {
      "cell_type": "code",
      "source": [
        "def Bisection_Method (f, a, b, epsilon=0.0001, max_iter=25):\n",
        "  if f(a) * f(b) >= 0:\n",
        "        print(\"Interval tidak valid! Pilih a dan b sehingga f(a) * f(b) < 0.\")\n",
        "        return None\n",
        "\n",
        "  for _ in range(max_iter):\n",
        "      c = (a + b) / 2\n",
        "      if abs(f(c)) < epsilon:\n",
        "          return c\n",
        "\n",
        "      if f(a) * f(c) < 0:\n",
        "          b = c\n",
        "      else:\n",
        "          a = c\n",
        "\n",
        "  return \"Maximum iteration reached. No root found.\""
      ],
      "metadata": {
        "id": "SOlJcfmbQVLS"
      },
      "execution_count": 28,
      "outputs": []
    },
    {
      "cell_type": "code",
      "source": [
        "def Bisection_Binus (f, a, b, epsilon=0.0001, max_iter=25):\n",
        "  if (np.sign(f(a)) == np.sign(f(b))):\n",
        "        return \"Interval tidak valid! Pilih a dan b sehingga f(a) * f(b) < 0.\"\n",
        "\n",
        "  if (max_iter == 0):\n",
        "    return \"Maximum iteration reached. No root found.\"\n",
        "\n",
        "  c = (a+b)/2\n",
        "  if (np.abs(f(c)) < epsilon):\n",
        "    return c\n",
        "  elif (np.sign(f(a)) == np.sign(f(c))):\n",
        "    return Bisection_Binus(f, c, b, epsilon, max_iter - 1)\n",
        "  else:\n",
        "    return Bisection_Binus(f, a, c, epsilon, max_iter - 1)"
      ],
      "metadata": {
        "id": "74H30pH5RMSc"
      },
      "execution_count": 29,
      "outputs": []
    },
    {
      "cell_type": "code",
      "execution_count": 30,
      "metadata": {
        "colab": {
          "base_uri": "https://localhost:8080/"
        },
        "id": "lgQFoYC6Ptfo",
        "outputId": "cd7ab4ff-9ab1-44e4-c737-ccfd4e06c602"
      },
      "outputs": [
        {
          "output_type": "stream",
          "name": "stdout",
          "text": [
            "Root: 1.4141845703125\n",
            "Root: 1.4141845703125\n",
            "Root: 1.4142135623715149\n"
          ]
        }
      ],
      "source": [
        "def f(x):\n",
        "  return x**2 - 2\n",
        "\n",
        "g = lambda x: x**2 - 2\n",
        "\n",
        "root = Bisection_Method(f, 1, 2)\n",
        "print(\"Root:\", root)\n",
        "\n",
        "root = Bisection_Binus(f, 1, 2)\n",
        "print(\"Root:\", root)\n",
        "\n",
        "root = bisect(f, 1, 2)\n",
        "print(\"Root:\", root)"
      ]
    },
    {
      "cell_type": "markdown",
      "source": [
        "## 2. Newton Rapshon"
      ],
      "metadata": {
        "id": "tlfU1NyHVifS"
      }
    },
    {
      "cell_type": "code",
      "source": [
        "def Newton_Rapson (f, f1, x0, epsilon=0.0001, max_iter=25):\n",
        "  x1 = x0 - f(x0)/f1(x0)\n",
        "  if (abs(f(x1)) < epsilon):\n",
        "    return x1\n",
        "  elif (max_iter == 0):\n",
        "    return \"Maximum iteration reached. No root found.\"\n",
        "  else:\n",
        "    return Newton_Rapson(f, f1, x1, epsilon, max_iter - 1)"
      ],
      "metadata": {
        "id": "nZ_-vc-RViPP"
      },
      "execution_count": 43,
      "outputs": []
    },
    {
      "cell_type": "code",
      "source": [
        "def Binus_Rapson (f, f1, x0, epsilon=0.0001, max_iter=25):\n",
        "  x1 = x0 - f(x0)/f1(x0)\n",
        "  if (np.abs(f(x1)) < epsilon):\n",
        "    return x1\n",
        "  elif (max_iter == 0):\n",
        "    return \"Maximum iteration reached. No root found.\"\n",
        "  else:\n",
        "    return Binus_Rapson(f, f1, x1, epsilon, max_iter - 1)"
      ],
      "metadata": {
        "id": "ueiI6R9VWdvT"
      },
      "execution_count": 37,
      "outputs": []
    },
    {
      "cell_type": "code",
      "source": [
        "f = lambda x: x**2 - 2\n",
        "f1 = lambda x: 2*x\n",
        "\n",
        "root = Newton_Rapson(f, f1, 1)\n",
        "print(\"Root:\", root)\n",
        "\n",
        "root = Binus_Rapson(f, f1, 1)\n",
        "print(\"Root:\", root)\n",
        "\n",
        "root = newton(f, 1)\n",
        "print(\"Root:\", root)"
      ],
      "metadata": {
        "colab": {
          "base_uri": "https://localhost:8080/"
        },
        "id": "Qxzz1D-uXD8_",
        "outputId": "54366fb8-a58d-485e-8dd0-19401e88a5b3"
      },
      "execution_count": 44,
      "outputs": [
        {
          "output_type": "stream",
          "name": "stdout",
          "text": [
            "Root: 1.4142156862745099\n",
            "Root: 1.4142156862745099\n",
            "Root: 1.414213562373095\n"
          ]
        }
      ]
    }
  ]
}