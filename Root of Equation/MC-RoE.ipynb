{
 "cells": [
  {
   "cell_type": "markdown",
   "id": "83b2f94b",
   "metadata": {},
   "source": [
    "# 1. Bisection Method"
   ]
  },
  {
   "cell_type": "code",
   "execution_count": 11,
   "id": "f813c150",
   "metadata": {},
   "outputs": [],
   "source": [
    "# Function\n",
    "def Bisection_Mikhail (f, a, b, epsilon: float = 0.0001, maxiter: int = 25):\n",
    "    if (f(a) * f(b) >= 0):\n",
    "        print(\"Interval tidak valid!\")\n",
    "        return None\n",
    "    \n",
    "    for _ in range(maxiter):\n",
    "        c = (a + b) / 2\n",
    "        if (abs(f(c)) < epsilon):\n",
    "            return c\n",
    "        \n",
    "        if f(a) * f(c) < 0:\n",
    "            b = c\n",
    "        else:\n",
    "            a = c\n",
    "\n",
    "    print(\"Maximum iteration reached. No root found.\")\n",
    "    return None"
   ]
  },
  {
   "cell_type": "code",
   "execution_count": 5,
   "id": "6a709481",
   "metadata": {},
   "outputs": [],
   "source": [
    "def f(x):\n",
    "    return x**2 - 2\n",
    "\n",
    "def f1(x):\n",
    "    return 2*x"
   ]
  },
  {
   "cell_type": "code",
   "execution_count": 12,
   "id": "54c3357e",
   "metadata": {},
   "outputs": [
    {
     "name": "stdout",
     "output_type": "stream",
     "text": [
      "Root: 1.4141845703125\n"
     ]
    }
   ],
   "source": [
    "res = Bisection_Mikhail(f, 1, 2)\n",
    "if (res):\n",
    "    print(f\"Root: {res}\")"
   ]
  },
  {
   "cell_type": "markdown",
   "id": "c2c35be9",
   "metadata": {},
   "source": [
    "# 2. Newton Raphson"
   ]
  },
  {
   "cell_type": "code",
   "execution_count": 9,
   "metadata": {},
   "outputs": [],
   "source": [
    "# Function\n",
    "def Mikhail_Raphson (f, f1, x0, epsilon = 0.0001, maxiter = 15):\n",
    "    if (abs(f(x0)) < epsilon):\n",
    "        return x0\n",
    "    x1 = x0 - (f(x0) / f1(x0))\n",
    "\n",
    "    if (maxiter <= 0):\n",
    "        print(\"Max Iteration reached. No root found.\")\n",
    "        return None\n",
    "    else:\n",
    "        return Mikhail_Raphson(f, f1, x1, epsilon, maxiter - 1)\n",
    "\n"
   ]
  },
  {
   "cell_type": "code",
   "execution_count": 10,
   "id": "59e79420",
   "metadata": {},
   "outputs": [
    {
     "name": "stdout",
     "output_type": "stream",
     "text": [
      "Root: 1.4142150098491113\n"
     ]
    }
   ],
   "source": [
    "res = Mikhail_Raphson (f, f1, x0 = 50)\n",
    "if (res):\n",
    "    print(f\"Root: {res}\")\n"
   ]
  }
 ],
 "metadata": {
  "kernelspec": {
   "display_name": "Python 3",
   "language": "python",
   "name": "python3"
  },
  "language_info": {
   "codemirror_mode": {
    "name": "ipython",
    "version": 3
   },
   "file_extension": ".py",
   "mimetype": "text/x-python",
   "name": "python",
   "nbconvert_exporter": "python",
   "pygments_lexer": "ipython3",
   "version": "3.12.4"
  }
 },
 "nbformat": 4,
 "nbformat_minor": 5
}
