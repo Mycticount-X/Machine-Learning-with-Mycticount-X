{
 "cells": [
  {
   "cell_type": "markdown",
   "id": "b161a40f",
   "metadata": {},
   "source": [
    "# The Riemann Integral"
   ]
  },
  {
   "cell_type": "markdown",
   "id": "5f8de4be",
   "metadata": {},
   "source": [
    "1. Buat Batas Atas(b), Batas Bawah(a), dan Jumlah Partisi (n)\n",
    "2. Hitung Lebar Tiap Partisi (n-1)\n",
    "3. Buat Array (linspace) dari a sampai b sebanyak n\n",
    "\n",
    "4. Left Riemann = Ambil Semua kecuali kanan\n",
    "5. Right Riemann = Ambil Semua kecuali kiri\n",
    "6. Midpoint Riemann = Buat Rata-rata lalu ambil semua\n",
    "7. Model Trapezoid = Ingat:\n",
    "   \"Jumlah(Sisi_Sejajar) * Tinggi / 2\""
   ]
  },
  {
   "cell_type": "code",
   "execution_count": 3,
   "id": "8e28df04",
   "metadata": {},
   "outputs": [],
   "source": [
    "# Import\n",
    "import numpy as np"
   ]
  },
  {
   "cell_type": "code",
   "execution_count": 4,
   "id": "b5dca1bc",
   "metadata": {},
   "outputs": [],
   "source": [
    "# Function\n",
    "def f(x: int | float):\n",
    "    return x**2 - 5\n",
    "\n",
    "# Partisi\n",
    "a = 2\n",
    "b = 5\n",
    "n = 5"
   ]
  },
  {
   "cell_type": "code",
   "execution_count": 5,
   "id": "dff97d76",
   "metadata": {},
   "outputs": [],
   "source": [
    "# Riemann Integral\n",
    "def Mikhail_Riemann (f, a, b, n):\n",
    "    # Lebar Partisi\n",
    "    h = (b - a) / (n - 1)\n",
    "\n",
    "    # Titik Partisi\n",
    "    x = [a + i * h for i in range(n)]\n",
    "    x = np.linspace(a, b, n)\n",
    "\n",
    "    leftRiemann = h * sum(f(x[:-1]))\n",
    "    rightRiemann = h * sum(f(x[1:]))\n",
    "    midRiemann = h * sum(f((x[:-1] + x[1:]) / 2))\n",
    "    trapezoid = (f(a) + 2 * sum(f(x[1:-1])) + f(b)) * (h / 2)\n",
    "\n",
    "    print(f\"Left Riemann:      {leftRiemann:.6f}\")\n",
    "    print(f\"Right Riemann:     {rightRiemann:.6f}\")\n",
    "    print(f\"Midpoint Riemann:  {midRiemann:.6f}\")\n",
    "    print(f\"Trapezoid Model:   {trapezoid:.6f}\")"
   ]
  },
  {
   "cell_type": "code",
   "execution_count": 6,
   "id": "87c8236f",
   "metadata": {},
   "outputs": [
    {
     "name": "stdout",
     "output_type": "stream",
     "text": [
      "Left Riemann:      16.406250\n",
      "Right Riemann:     32.156250\n",
      "Midpoint Riemann:  23.859375\n",
      "Trapezoid Model:   24.281250\n"
     ]
    }
   ],
   "source": [
    "# Main\n",
    "if __name__ == \"__main__\":\n",
    "    Mikhail_Riemann(f, a, b, n)"
   ]
  }
 ],
 "metadata": {
  "kernelspec": {
   "display_name": "Python 3",
   "language": "python",
   "name": "python3"
  },
  "language_info": {
   "codemirror_mode": {
    "name": "ipython",
    "version": 3
   },
   "file_extension": ".py",
   "mimetype": "text/x-python",
   "name": "python",
   "nbconvert_exporter": "python",
   "pygments_lexer": "ipython3",
   "version": "3.12.4"
  }
 },
 "nbformat": 4,
 "nbformat_minor": 5
}
