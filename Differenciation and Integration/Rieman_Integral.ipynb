{
 "cells": [
  {
   "cell_type": "markdown",
   "id": "8c1f929a",
   "metadata": {},
   "source": [
    "# Riemann Integral"
   ]
  },
  {
   "cell_type": "code",
   "execution_count": null,
   "id": "7ceecf47",
   "metadata": {},
   "outputs": [
    {
     "name": "stdout",
     "output_type": "stream",
     "text": [
      "Left Riemann:     16.406250\n",
      "Right Riemann:    32.156250\n",
      "Midpoint Rule:    23.859375\n",
      "Trapezoid Rule:   24.281250\n"
     ]
    }
   ],
   "source": [
    "import numpy as np\n",
    "\n",
    "# Fungsi yang akan diintegrasikan\n",
    "def f(x):\n",
    "    return x**2 - 5  # Ganti dengan fungsi lain jika diperlukan\n",
    "\n",
    "# Batas dan jumlah partisi\n",
    "a = 2          # batas bawah\n",
    "b = 5          # batas atas\n",
    "n = 5         # jumlah partisi\n",
    "\n",
    "# Lebar tiap partisi\n",
    "h = (b - a) / (n - 1)\n",
    "\n",
    "# Titik partisi\n",
    "# Membuat Array dari a sampai b dengan n titik\n",
    "x = np.linspace(a, b, n)\n",
    "\n",
    "# Metode Left Riemann\n",
    "# Mengambil seluruh elemen kecuali elemen terakhir dari array x\n",
    "left_riemann = h * np.sum(f(x[:-1]))\n",
    "\n",
    "# Metode Right Riemann\n",
    "# Mengambil seluruh elemen kecuali elemen pertama dari array x\n",
    "right_riemann = h * np.sum(f(x[1:]))\n",
    "\n",
    "# Metode Midpoint\n",
    "midpoints = (x[:-1] + x[1:]) / 2\n",
    "mid_riemann = h * np.sum(f(midpoints))\n",
    "\n",
    "# Trapezoid Rule\n",
    "trapezoid = (h / 2) * (f(a) + 2 * np.sum(f(x[1:-1])) + f(b))\n",
    "\n",
    "# Output hasil\n",
    "print(f\"Left Riemann:     {left_riemann:.6f}\")\n",
    "print(f\"Right Riemann:    {right_riemann:.6f}\")\n",
    "print(f\"Midpoint Rule:    {mid_riemann:.6f}\")\n",
    "print(f\"Trapezoid Rule:   {trapezoid:.6f}\")\n"
   ]
  }
 ],
 "metadata": {
  "kernelspec": {
   "display_name": "Python 3",
   "language": "python",
   "name": "python3"
  },
  "language_info": {
   "codemirror_mode": {
    "name": "ipython",
    "version": 3
   },
   "file_extension": ".py",
   "mimetype": "text/x-python",
   "name": "python",
   "nbconvert_exporter": "python",
   "pygments_lexer": "ipython3",
   "version": "3.12.4"
  }
 },
 "nbformat": 4,
 "nbformat_minor": 5
}
