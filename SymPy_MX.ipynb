{
  "nbformat": 4,
  "nbformat_minor": 0,
  "metadata": {
    "colab": {
      "provenance": []
    },
    "kernelspec": {
      "name": "python3",
      "display_name": "Python 3"
    },
    "language_info": {
      "name": "python"
    }
  },
  "cells": [
    {
      "cell_type": "markdown",
      "source": [
        "# SymPy"
      ],
      "metadata": {
        "id": "0VWKmHjczyX7"
      }
    },
    {
      "cell_type": "code",
      "source": [
        "import sympy as sp"
      ],
      "metadata": {
        "id": "5rlJlu-IGVlR"
      },
      "execution_count": 36,
      "outputs": []
    },
    {
      "cell_type": "markdown",
      "source": [
        "## 1. Symbol"
      ],
      "metadata": {
        "id": "FJdYk-nDGKfh"
      }
    },
    {
      "cell_type": "code",
      "execution_count": 34,
      "metadata": {
        "id": "LeNTEKi3zviM"
      },
      "outputs": [],
      "source": [
        "# Symbol\n",
        "x = sp.Symbol('x')\n",
        "y = sp.Symbol('y')\n",
        "\n",
        "x, y, z = sp.symbols('x y z')"
      ]
    },
    {
      "cell_type": "code",
      "source": [
        "# Expresi\n",
        "expr = (x + 2) * (x - 3)\n",
        "expm = sp.expand(expr)\n",
        "\n",
        "print(\"Expand: \", sp.expand(expr))\n",
        "print(\"Factor: \", sp.factor(expm))"
      ],
      "metadata": {
        "colab": {
          "base_uri": "https://localhost:8080/"
        },
        "id": "661PxoezGZaN",
        "outputId": "6ed2687b-ee8e-4016-87ad-00e5f38057b9"
      },
      "execution_count": 11,
      "outputs": [
        {
          "output_type": "stream",
          "name": "stdout",
          "text": [
            "Expand:  x**2 - x - 6\n",
            "Factor:  (x - 3)*(x + 2)\n"
          ]
        }
      ]
    },
    {
      "cell_type": "code",
      "source": [
        "# Integral\n",
        "f = x**2 + x + 6\n",
        "print(\"Integral: \", sp.integrate(f, x))"
      ],
      "metadata": {
        "colab": {
          "base_uri": "https://localhost:8080/"
        },
        "id": "MHO-bXVzHt3D",
        "outputId": "b111af89-6316-4754-8f7b-405765d0c1a3"
      },
      "execution_count": 12,
      "outputs": [
        {
          "output_type": "stream",
          "name": "stdout",
          "text": [
            "Integral:  x**3/3 + x**2/2 + 6*x\n"
          ]
        }
      ]
    },
    {
      "cell_type": "code",
      "source": [
        "# Derevatif / Turunan\n",
        "f = x**2 + 2*x + 6\n",
        "print(\"Turunan: \", sp.diff(f, x))"
      ],
      "metadata": {
        "colab": {
          "base_uri": "https://localhost:8080/"
        },
        "id": "WuqRH8eQIIGa",
        "outputId": "cd268d7b-f341-47c3-c473-3d6ba80a644c"
      },
      "execution_count": 14,
      "outputs": [
        {
          "output_type": "stream",
          "name": "stdout",
          "text": [
            "Turunan:  2*x + 2\n"
          ]
        }
      ]
    },
    {
      "cell_type": "code",
      "source": [
        "# Solve\n",
        "f = x**3 + 3*x**2 + 3*x + 1\n",
        "print(\"Solver: \", sp.solve(f, x))"
      ],
      "metadata": {
        "colab": {
          "base_uri": "https://localhost:8080/"
        },
        "id": "lUF34QmMITtt",
        "outputId": "7dcbcb5a-ae9c-4521-ae38-b700f64d2878"
      },
      "execution_count": 15,
      "outputs": [
        {
          "output_type": "stream",
          "name": "stdout",
          "text": [
            "Solver:  [-1]\n"
          ]
        }
      ]
    },
    {
      "cell_type": "code",
      "source": [
        "# Evaluasi Numerik\n",
        "num = sp.N(sp.pi)\n",
        "print(\"Pi: \", num)"
      ],
      "metadata": {
        "colab": {
          "base_uri": "https://localhost:8080/"
        },
        "id": "5xoPK5wRIeIJ",
        "outputId": "17b27a71-b5f5-464f-ecfc-359af7d27ef9"
      },
      "execution_count": 16,
      "outputs": [
        {
          "output_type": "stream",
          "name": "stdout",
          "text": [
            "Pi:  3.14159265358979\n"
          ]
        }
      ]
    },
    {
      "cell_type": "markdown",
      "source": [
        "## 2. Persamaan Linear dan Nonlinear"
      ],
      "metadata": {
        "id": "JOvZHPj4K0gb"
      }
    },
    {
      "cell_type": "code",
      "source": [
        "# Persamaan Linear\n",
        "eq1 = sp.Eq(2*x + 5*y, 5)\n",
        "eq2 = sp.Eq(3*x + 5*y, 7)\n",
        "\n",
        "print(\"Persamaan Linear: \", sp.solve((eq1, eq2), (x, y)))"
      ],
      "metadata": {
        "colab": {
          "base_uri": "https://localhost:8080/"
        },
        "id": "T_czXULhJGu6",
        "outputId": "0719e526-5aaa-4852-854f-2d10f36a715b"
      },
      "execution_count": 19,
      "outputs": [
        {
          "output_type": "stream",
          "name": "stdout",
          "text": [
            "Persamaan Linear:  {x: 2, y: 1/5}\n"
          ]
        }
      ]
    },
    {
      "cell_type": "code",
      "source": [
        "# Sejajar\n",
        "eq1 = sp.Eq(x + 2*y, 1)\n",
        "eq2 = sp.Eq(x + 2*y, -1)\n",
        "\n",
        "print(\"Sejajar: \", sp.solve((eq1, eq2), (x, y)))"
      ],
      "metadata": {
        "colab": {
          "base_uri": "https://localhost:8080/"
        },
        "id": "K4u2qV0KJqYu",
        "outputId": "491ef6eb-e329-4f61-f38c-0a08f4a8f723"
      },
      "execution_count": 28,
      "outputs": [
        {
          "output_type": "stream",
          "name": "stdout",
          "text": [
            "Sejajar:  []\n"
          ]
        }
      ]
    },
    {
      "cell_type": "code",
      "source": [
        "# Berhimpitan\n",
        "eq1 = sp.Eq(2*x + 3*y, 7)\n",
        "eq2 = sp.Eq(4*x + 6*y, 14)\n",
        "\n",
        "print(\"Berhimpitan: \", sp.solve((eq1, eq2), (x, y)))"
      ],
      "metadata": {
        "colab": {
          "base_uri": "https://localhost:8080/"
        },
        "id": "7cBIgK1gKLKD",
        "outputId": "76c12a4b-568a-47f0-e4d0-a93925d77c3a"
      },
      "execution_count": 29,
      "outputs": [
        {
          "output_type": "stream",
          "name": "stdout",
          "text": [
            "Berhimpitan:  {x: 7/2 - 3*y/2}\n"
          ]
        }
      ]
    },
    {
      "cell_type": "code",
      "source": [
        "# Persamaan Exponensial\n",
        "eq1 = sp.Eq(x**2 + y**2, 25)\n",
        "eq2 = sp.Eq(x - y, 3)\n",
        "\n",
        "print(\"Persamaan Exponensial: \", sp.solve((eq1, eq2), (x, y)))"
      ],
      "metadata": {
        "colab": {
          "base_uri": "https://localhost:8080/"
        },
        "id": "Z5sHTAynK5X6",
        "outputId": "311c6af3-a8dd-4ce4-e45a-ac5c27672b4e"
      },
      "execution_count": 32,
      "outputs": [
        {
          "output_type": "stream",
          "name": "stdout",
          "text": [
            "Persamaan Exponensial:  [(3/2 - sqrt(41)/2, -sqrt(41)/2 - 3/2), (3/2 + sqrt(41)/2, -3/2 + sqrt(41)/2)]\n"
          ]
        }
      ]
    },
    {
      "cell_type": "markdown",
      "source": [
        "## 3. Ordinary Differential Equations (ODEs)"
      ],
      "metadata": {
        "id": "WfhGpCQCI3Su"
      }
    },
    {
      "cell_type": "code",
      "source": [
        "# dy/dx + 2y = e^(-x)\n",
        "y = sp.Function('y') # Ini harus Function()\n",
        "x = sp.Symbol('x')\n",
        "\n",
        "ode = sp.Eq(sp.Derivative(y(x), x) + 2*y(x), sp.exp(-x))\n",
        "solution = sp.dsolve(ode, y(x))\n",
        "solution\n"
      ],
      "metadata": {
        "colab": {
          "base_uri": "https://localhost:8080/",
          "height": 38
        },
        "id": "blqYvtAYLjyk",
        "outputId": "de36b704-b5c5-40fe-bb6f-f847716b2fc8"
      },
      "execution_count": 38,
      "outputs": [
        {
          "output_type": "execute_result",
          "data": {
            "text/plain": [
              "Eq(y(x), (C1*exp(-x) + 1)*exp(-x))"
            ],
            "text/latex": "$\\displaystyle y{\\left(x \\right)} = \\left(C_{1} e^{- x} + 1\\right) e^{- x}$"
          },
          "metadata": {},
          "execution_count": 38
        }
      ]
    },
    {
      "cell_type": "markdown",
      "source": [
        "# **1️⃣ Ordinary Differential Equations (ODEs)**\n",
        "## **Apa Itu ODE?**\n",
        "**Ordinary Differential Equation (ODE)** adalah persamaan yang melibatkan turunan suatu fungsi dengan **satu variabel independen**.\n",
        "\n",
        "Contoh ODE sederhana:\n",
        "\\[\n",
        "\\frac{dy}{dx} = 2x\n",
        "\\]\n",
        "Ini adalah **ODE orde pertama** karena mengandung turunan pertama \\( dy/dx \\).\n",
        "\n",
        "---\n",
        "\n",
        "## **Jenis-Jenis ODE**\n",
        "1. **ODE Orde Pertama**: Mengandung turunan pertama dari fungsi.\n",
        "   - Contoh: \\( \\frac{dy}{dx} + y = x \\)\n",
        "  \n",
        "2. **ODE Orde Kedua**: Mengandung turunan kedua.\n",
        "   - Contoh: \\( \\frac{d^2y}{dx^2} - 4y = 0 \\)\n",
        "\n",
        "3. **ODE Linear**: Bentuk umum:\n",
        "   \\[\n",
        "   a_n(x) \\frac{d^n y}{dx^n} + a_{n-1}(x) \\frac{d^{n-1}y}{dx^{n-1}} + \\dots + a_1(x) \\frac{dy}{dx} + a_0(x)y = f(x)\n",
        "   \\]\n",
        "   - Contoh: \\( y'' + 3y' + 2y = x \\)\n",
        "\n",
        "4. **ODE Nonlinear**: Persamaan yang tidak linier terhadap \\( y \\) atau turunannya.\n",
        "   - Contoh: \\( y' + y^2 = x \\)\n",
        "\n",
        "---\n",
        "\n",
        "## **Menyelesaikan ODE dengan SymPy**\n",
        "Misalkan kita punya ODE:\n",
        "\\[\n",
        "\\frac{dy}{dx} + 2y = e^{-x}\n",
        "\\]\n",
        "Di SymPy, kita bisa menyelesaikannya dengan:\n",
        "\n",
        "```python\n",
        "import sympy as sp\n",
        "\n",
        "x = sp.Symbol('x')\n",
        "y = sp.Function('y')\n",
        "\n",
        "ode = sp.Eq(sp.Derivative(y(x), x) + 2*y(x), sp.exp(-x))\n",
        "solution = sp.dsolve(ode, y(x))\n",
        "solution\n",
        "```\n",
        "Hasilnya adalah solusi eksplisit dalam bentuk simbolik.\n",
        "\n",
        "---\n"
      ],
      "metadata": {
        "id": "Hs6KGC77NJIO"
      }
    },
    {
      "cell_type": "markdown",
      "source": [
        "## 4. Taylor Series"
      ],
      "metadata": {
        "id": "TK-AhCk9Nkf5"
      }
    },
    {
      "cell_type": "code",
      "source": [
        "# Taylor Series\n",
        "taylor_expansion = sp.series(sp.exp(x), x, 0, 5)\n",
        "taylor_expansion"
      ],
      "metadata": {
        "colab": {
          "base_uri": "https://localhost:8080/",
          "height": 54
        },
        "id": "LeozloeSNep-",
        "outputId": "9d9e2669-1746-4056-d50a-745b5eb77b81"
      },
      "execution_count": 39,
      "outputs": [
        {
          "output_type": "execute_result",
          "data": {
            "text/plain": [
              "1 + x + x**2/2 + x**3/6 + x**4/24 + O(x**5)"
            ],
            "text/latex": "$\\displaystyle 1 + x + \\frac{x^{2}}{2} + \\frac{x^{3}}{6} + \\frac{x^{4}}{24} + O\\left(x^{5}\\right)$"
          },
          "metadata": {},
          "execution_count": 39
        }
      ]
    },
    {
      "cell_type": "markdown",
      "source": [
        "# **2️⃣ Taylor Series**\n",
        "## **Apa Itu Taylor Series?**\n",
        "**Taylor Series** adalah ekspansi fungsi dalam bentuk **deret tak hingga** yang mendekati fungsi tersebut di sekitar titik tertentu.\n",
        "\n",
        "Misalkan kita punya fungsi \\( f(x) \\), maka ekspansi **Taylor Series** di sekitar \\( x=a \\) diberikan oleh:\n",
        "\\[\n",
        "f(x) = f(a) + \\frac{f'(a)}{1!} (x - a) + \\frac{f''(a)}{2!} (x - a)^2 + \\dots\n",
        "\\]\n",
        "Di mana \\( f', f'', f''' \\) adalah turunan fungsi \\( f(x) \\).\n",
        "\n",
        "---\n",
        "\n",
        "## **Contoh Taylor Series**\n",
        "### **Ekspansi Taylor untuk \\( e^x \\) di sekitar \\( x=0 \\)**\n",
        "\\[\n",
        "e^x = 1 + x + \\frac{x^2}{2!} + \\frac{x^3}{3!} + \\dots\n",
        "\\]\n",
        "\n",
        "Di SymPy:\n",
        "```python\n",
        "x = sp.Symbol('x')\n",
        "taylor_expansion = sp.series(sp.exp(x), x, 0, 5)  # Sampai x^4\n",
        "taylor_expansion\n",
        "```\n",
        "Hasilnya adalah:\n",
        "\\[\n",
        "1 + x + \\frac{x^2}{2} + \\frac{x^3}{6} + \\frac{x^4}{24} + \\mathcal{O}(x^5)\n",
        "\\]\n",
        "\n",
        "---\n",
        "\n",
        "## **Aplikasi Taylor Series**\n",
        "- **Approksimasi fungsi kompleks** (misalnya \\( \\sin x, \\cos x, e^x \\))\n",
        "- **Analisis kestabilan dalam dinamika sistem**\n",
        "- **Pemecahan ODE dan PDE** menggunakan metode numerik\n",
        "\n",
        "---\n",
        "\n",
        "### **Kesimpulan**\n",
        "| Konsep | Penjelasan |\n",
        "|--------|-----------|\n",
        "| **ODE (Persamaan Diferensial)** | Persamaan yang melibatkan turunan suatu fungsi |\n",
        "| **Taylor Series** | Metode untuk mendekati fungsi dalam bentuk deret |"
      ],
      "metadata": {
        "id": "j6aD99FkNiU2"
      }
    },
    {
      "cell_type": "markdown",
      "source": [
        "## 5. Initial Value Problem"
      ],
      "metadata": {
        "id": "ZtE5ThtqPxc5"
      }
    },
    {
      "cell_type": "code",
      "source": [
        "# Metode Analitik\n",
        "x = sp.Symbol('x')\n",
        "y = sp.Function('y')\n",
        "\n",
        "ode = sp.Eq(sp.Derivative(y(x), x) + y(x), x)\n",
        "solution = sp.dsolve(ode, y(x), ics={y(0): 1})\n",
        "solution"
      ],
      "metadata": {
        "colab": {
          "base_uri": "https://localhost:8080/",
          "height": 38
        },
        "id": "IemsqUkHP3QN",
        "outputId": "278ee42e-e8e4-439a-9b75-7c942b0ee1f4"
      },
      "execution_count": 42,
      "outputs": [
        {
          "output_type": "execute_result",
          "data": {
            "text/plain": [
              "Eq(y(x), x - 1 + 2*exp(-x))"
            ],
            "text/latex": "$\\displaystyle y{\\left(x \\right)} = x - 1 + 2 e^{- x}$"
          },
          "metadata": {},
          "execution_count": 42
        }
      ]
    },
    {
      "cell_type": "code",
      "source": [
        "import numpy as np\n",
        "import matplotlib.pyplot as plt\n",
        "\n",
        "# Definisikan fungsi turunan\n",
        "def f(x, y):\n",
        "    return 2*x\n",
        "\n",
        "# Inisialisasi\n",
        "x0, y0 = 0, 3  # Kondisi awal\n",
        "h = 0.1  # Langkah\n",
        "xn = 2  # Sampai x = 2\n",
        "n = int((xn - x0) / h)  # Jumlah iterasi\n",
        "\n",
        "# Simpan hasil\n",
        "x_values = np.linspace(x0, xn, n+1)\n",
        "y_values = np.zeros(n+1)\n",
        "y_values[0] = y0\n",
        "\n",
        "# Metode Euler\n",
        "for i in range(n):\n",
        "    y_values[i+1] = y_values[i] + h * f(x_values[i], y_values[i])\n",
        "\n",
        "# Plot hasil\n",
        "plt.plot(x_values, y_values, label=\"Euler Approximation\")\n",
        "plt.xlabel(\"x\")\n",
        "plt.ylabel(\"y\")\n",
        "plt.legend()\n",
        "plt.show()\n"
      ],
      "metadata": {
        "colab": {
          "base_uri": "https://localhost:8080/",
          "height": 449
        },
        "id": "dxb-8Ue6RAYI",
        "outputId": "a155cc37-c45e-449f-e2c5-600b3ec1bdb5"
      },
      "execution_count": 43,
      "outputs": [
        {
          "output_type": "display_data",
          "data": {
            "text/plain": [
              "<Figure size 640x480 with 1 Axes>"
            ],
            "image/png": "[encoded data removed]"
          },
          "metadata": {}
        }
      ]
    },
    {
      "cell_type": "code",
      "source": [
        "# Metode Runge-Kutta\n",
        "# Definisikan fungsi turunan dy/dx = f(x, y)\n",
        "def f(x, y):\n",
        "    return 2*x + y\n",
        "\n",
        "# Parameter\n",
        "x0, y0 = 0, 1  # Kondisi awal\n",
        "h = 0.1  # Langkah h\n",
        "xn = 2  # Sampai x = 2\n",
        "n = int((xn - x0) / h)  # Jumlah iterasi\n",
        "\n",
        "# Simpan hasil\n",
        "x_values = np.linspace(x0, xn, n+1)\n",
        "y_values = np.zeros(n+1)\n",
        "y_values[0] = y0\n",
        "\n",
        "# Metode Runge-Kutta 4\n",
        "for i in range(n):\n",
        "    x_n = x_values[i]\n",
        "    y_n = y_values[i]\n",
        "\n",
        "    k1 = h * f(x_n, y_n)\n",
        "    k2 = h * f(x_n + h/2, y_n + k1/2)\n",
        "    k3 = h * f(x_n + h/2, y_n + k2/2)\n",
        "    k4 = h * f(x_n + h, y_n + k3)\n",
        "\n",
        "    y_values[i+1] = y_n + (k1 + 2*k2 + 2*k3 + k4) / 6\n",
        "\n",
        "# Plot hasil\n",
        "plt.plot(x_values, y_values, label=\"Runge-Kutta Approximation\")\n",
        "plt.xlabel(\"x\")\n",
        "plt.ylabel(\"y\")\n",
        "plt.legend()\n",
        "plt.grid()\n",
        "plt.show()\n"
      ],
      "metadata": {
        "colab": {
          "base_uri": "https://localhost:8080/",
          "height": 449
        },
        "id": "gZ9XlaFASCUZ",
        "outputId": "4256c8cf-4679-4ccf-b60d-9853a710e325"
      },
      "execution_count": 44,
      "outputs": [
        {
          "output_type": "display_data",
          "data": {
            "text/plain": [
              "<Figure size 640x480 with 1 Axes>"
            ],
            "image/png": "[encoded data removed]"
          },
          "metadata": {}
        }
      ]
    }
  ]
}