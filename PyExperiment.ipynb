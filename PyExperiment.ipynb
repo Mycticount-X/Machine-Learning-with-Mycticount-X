{
 "cells": [
  {
   "cell_type": "code",
   "execution_count": 1,
   "metadata": {},
   "outputs": [
    {
     "name": "stdout",
     "output_type": "stream",
     "text": [
      "{1, 3}\n"
     ]
    }
   ],
   "source": [
    "seta = {1, 2, 3}\n",
    "setb = {2, 4, 5}\n",
    "\n",
    "print(seta - setb)"
   ]
  },
  {
   "cell_type": "code",
   "execution_count": null,
   "metadata": {},
   "outputs": [
    {
     "name": "stdout",
     "output_type": "stream",
     "text": [
      "unsupported operand type(s) for -: 'list' and 'list'\n",
      "{1, 3}\n"
     ]
    }
   ],
   "source": [
    "# TypeError: unsupported operand type(s) for -: 'list' and 'list'\n",
    "lisa = [1, 2, 3]\n",
    "lisb = [2, 4, 5]\n",
    "\n",
    "try:\n",
    "    print(lisa - lisb)\n",
    "except TypeError as e:\n",
    "    print(e)\n",
    "\n",
    "print(set(lisa) - set(lisb))"
   ]
  }
 ],
 "metadata": {
  "kernelspec": {
   "display_name": "computer_vision",
   "language": "python",
   "name": "python3"
  },
  "language_info": {
   "codemirror_mode": {
    "name": "ipython",
    "version": 3
   },
   "file_extension": ".py",
   "mimetype": "text/x-python",
   "name": "python",
   "nbconvert_exporter": "python",
   "pygments_lexer": "ipython3",
   "version": "3.12.4"
  }
 },
 "nbformat": 4,
 "nbformat_minor": 2
}
