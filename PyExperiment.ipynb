{
 "cells": [
  {
   "cell_type": "code",
   "execution_count": 1,
   "metadata": {},
   "outputs": [
    {
     "name": "stdout",
     "output_type": "stream",
     "text": [
      "{1, 3}\n"
     ]
    }
   ],
   "source": [
    "seta = {1, 2, 3}\n",
    "setb = {2, 4, 5}\n",
    "\n",
    "print(seta - setb)"
   ]
  },
  {
   "cell_type": "code",
   "execution_count": null,
   "metadata": {},
   "outputs": [
    {
     "name": "stdout",
     "output_type": "stream",
     "text": [
      "unsupported operand type(s) for -: 'list' and 'list'\n",
      "{1, 3}\n"
     ]
    }
   ],
   "source": [
    "# TypeError: unsupported operand type(s) for -: 'list' and 'list'\n",
    "lisa = [1, 2, 3]\n",
    "lisb = [2, 4, 5]\n",
    "\n",
    "try:\n",
    "    print(lisa - lisb)\n",
    "except TypeError as e:\n",
    "    print(e)\n",
    "\n",
    "print(set(lisa) - set(lisb))"
   ]
  },
  {
   "cell_type": "code",
   "execution_count": null,
   "metadata": {},
   "outputs": [],
   "source": [
    "# Lesson: Walrus Operator in Python\n",
    "\n",
    "# The Walrus Operator (:=) is a new feature introduced in Python 3.8.\n",
    "# It allows you to assign values to variables as part of an expression.\n",
    "# This can make your code more concise and readable.\n",
    "\n",
    "# Example 1: Using the Walrus Operator in a while loop\n",
    "# Without Walrus Operator\n",
    "n = 0\n",
    "while n < 10:\n",
    "    print(n)\n",
    "    n += 1\n",
    "\n",
    "# With Walrus Operator\n",
    "n = 0\n",
    "while (n := n + 1) < 10:\n",
    "    print(n)\n",
    "\n",
    "# Example 2: Using the Walrus Operator in an if statement\n",
    "# Without Walrus Operator\n",
    "data = input(\"Enter some data: \")\n",
    "if len(data) > 5:\n",
    "    print(f\"Data is too long: {data}\")\n",
    "\n",
    "# With Walrus Operator\n",
    "if (data := input(\"Enter some data: \")) and len(data) > 5:\n",
    "    print(f\"Data is too long: {data}\")\n",
    "\n",
    "# Example 3: Using the Walrus Operator in a list comprehension\n",
    "# Without Walrus Operator\n",
    "values = [1, 2, 3, 4, 5]\n",
    "squared_values = []\n",
    "for value in values:\n",
    "    squared_values.append(value ** 2)\n",
    "print(squared_values)\n",
    "\n",
    "# With Walrus Operator\n",
    "values = [1, 2, 3, 4, 5]\n",
    "squared_values = [value ** 2 for value in values if (value := value)]\n",
    "print(squared_values)\n",
    "\n",
    "# The Walrus Operator can make your code more concise and readable,\n",
    "# but it should be used judiciously to avoid making the code harder to understand."
   ]
  }
 ],
 "metadata": {
  "kernelspec": {
   "display_name": "computer_vision",
   "language": "python",
   "name": "python3"
  },
  "language_info": {
   "codemirror_mode": {
    "name": "ipython",
    "version": 3
   },
   "file_extension": ".py",
   "mimetype": "text/x-python",
   "name": "python",
   "nbconvert_exporter": "python",
   "pygments_lexer": "ipython3",
   "version": "3.12.4"
  }
 },
 "nbformat": 4,
 "nbformat_minor": 2
}
