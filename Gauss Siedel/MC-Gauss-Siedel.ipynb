{
 "cells": [
  {
   "cell_type": "markdown",
   "id": "3c2c1513",
   "metadata": {},
   "source": [
    "# Gauss Siedel"
   ]
  },
  {
   "cell_type": "code",
   "execution_count": 6,
   "id": "cba3ac72",
   "metadata": {},
   "outputs": [
    {
     "name": "stdout",
     "output_type": "stream",
     "text": [
      "Dominant: True\n",
      "Gauss: \n",
      "Start: [0. 0. 0.]\n",
      "Iterasi 1: x = [0.8  0.7  1.15], dx = 1.1500\n",
      "Iterasi 2: x = [-0.055       0.65083333  1.58569444], dx = 0.8550\n",
      "Iterasi 3: x = [-0.25318056  0.61124769  1.69138233], dx = 0.1982\n",
      "Iterasi 4: x = [-0.29019024  0.59980132  1.7117949 ], dx = 0.0370\n",
      "Iterasi 5: x = [-0.29581798  0.59733718  1.71501946], dx = 0.0056\n",
      "Iterasi 6: x = [-0.2964446   0.59690419  1.71540494], dx = 0.0006\n",
      "Iterasi 7: x = [-0.29646414  0.5968432   1.71542487], dx = 0.0001\n",
      "Converged!\n"
     ]
    },
    {
     "data": {
      "text/plain": [
       "array([-0.29646414,  0.5968432 ,  1.71542487])"
      ]
     },
     "execution_count": 6,
     "metadata": {},
     "output_type": "execute_result"
    }
   ],
   "source": [
    "import numpy as np\n",
    "\n",
    "def diagonal_dominant(mtx):\n",
    "    mtx = np.array(mtx, float)\n",
    "    diag = np.abs(np.diag(mtx))\n",
    "    off = np.sum(np.abs(mtx), axis=1) - diag\n",
    "    return np.all(diag > off)\n",
    "\n",
    "def gauss_seidel(A, b, epsilon = 0.0001, maxiter = 15):\n",
    "\n",
    "    # A = matriks koefisien, b = vektor konstanta\n",
    "    A = np.array(A, float)\n",
    "    b = np.array(b, float)\n",
    "    if not diagonal_dominant(A):\n",
    "        print(\"Matrix is not diagonally dominant.\")\n",
    "        return None\n",
    "\n",
    "    # D = diagonal\n",
    "    D = np.diag(A)\n",
    "\n",
    "    # mtx = matrix tanpa diagonal\n",
    "    mtx = A.copy()\n",
    "    mtx = -mtx\n",
    "    np.fill_diagonal(mtx, 0)\n",
    "\n",
    "    # Start Vector\n",
    "    start = np.zeros_like(b)\n",
    "    print(f\"Start: {start}\")\n",
    "\n",
    "    # Start iterasi\n",
    "    for k in range(maxiter):\n",
    "        new = start.copy()\n",
    "        for i, r in enumerate(mtx):\n",
    "            new[i] = (b[i] + np.dot(r, new)) / D[i]\n",
    "        \n",
    "\n",
    "        # new = (b - mtx @ start) / D\n",
    "        dx = np.linalg.norm(new - start, ord=np.inf)\n",
    "        print(f\"Iterasi {k+1}: x = {new}, dx = {dx:.4f}\")\n",
    "\n",
    "        if dx < epsilon:\n",
    "            print(\"Converged!\")\n",
    "            return new\n",
    "        start = new\n",
    "\n",
    "    print(\"Not Converged\")\n",
    "    return start\n",
    "\n",
    "\n",
    "# Test Case 1\n",
    "Xs = [\n",
    "    [10, 4, 5],\n",
    "    [1, 6, 1],\n",
    "    [3, 1, 6]\n",
    "]\n",
    "\n",
    "Ys = [8, 5, 10]\n",
    "\n",
    "print(\"Dominant:\", diagonal_dominant(Xs))\n",
    "print(\"Gauss: \")\n",
    "gauss_seidel(Xs, Ys)"
   ]
  },
  {
   "cell_type": "code",
   "execution_count": null,
   "id": "38106861",
   "metadata": {},
   "outputs": [
    {
     "name": "stdout",
     "output_type": "stream",
     "text": [
      "Dominant: True\n",
      "Gauss: \n",
      "Start: [0. 0. 0.]\n",
      "Iterasi 1: x = [0.8  0.7  1.15], dx = 1.1500\n",
      "Iterasi 2: x = [-0.055       0.65083333  1.58569444], dx = 0.8550\n",
      "Iterasi 3: x = [-0.25318056  0.61124769  1.69138233], dx = 0.1982\n",
      "Iterasi 4: x = [-0.29019024  0.59980132  1.7117949 ], dx = 0.0370\n",
      "Iterasi 5: x = [-0.29581798  0.59733718  1.71501946], dx = 0.0056\n",
      "Iterasi 6: x = [-0.2964446   0.59690419  1.71540494], dx = 0.0006\n",
      "Iterasi 7: x = [-0.29646414  0.5968432   1.71542487], dx = 0.0001\n",
      "Converged!\n"
     ]
    },
    {
     "data": {
      "text/plain": [
       "array([-0.29646414,  0.5968432 ,  1.71542487])"
      ]
     },
     "execution_count": 5,
     "metadata": {},
     "output_type": "execute_result"
    }
   ],
   "source": [
    "import numpy as np\n",
    "\n",
    "def diagonal_dominant(mtx):\n",
    "    mtx = np.array(mtx, float)\n",
    "    diag = np.abs(np.diag(mtx))\n",
    "    off = np.sum(np.abs(mtx), axis=1) - diag\n",
    "    return np.all(diag > off)\n",
    "\n",
    "def gauss_seidel(A, b, epsilon=0.0001, maxiter=15):\n",
    "    A = np.array(A, float)\n",
    "    b = np.array(b, float)\n",
    "    if not diagonal_dominant(A):\n",
    "        print(\"Matrix is not diagonally dominant.\")\n",
    "        return None\n",
    "\n",
    "    n = len(b)\n",
    "    start = np.zeros(n)\n",
    "    # print(f\"Start: {start}\")\n",
    "\n",
    "    for k in range(maxiter):\n",
    "        new = start.copy()\n",
    "        for i in range(n):\n",
    "            sum1 = np.dot(A[i, :i], new[:i])  # menggunakan nilai baru\n",
    "            sum2 = np.dot(A[i, i+1:], start[i+1:])  # menggunakan nilai lama\n",
    "            new[i] = (b[i] - sum1 - sum2) / A[i, i]\n",
    "\n",
    "        dx = np.linalg.norm(new - start, ord=np.inf)\n",
    "        print(f\"Iterasi {k+1}: x = {new}, dx = {dx:.4f}\")\n",
    "\n",
    "        if dx < epsilon:\n",
    "            print(\"Converged!\")\n",
    "            return new\n",
    "        start = new\n",
    "\n",
    "    print(\"Not Converged\")\n",
    "    return start\n",
    "\n",
    "# Test Case 1\n",
    "Xs = [\n",
    "    [10, 4, 5],\n",
    "    [1, 6, 1],\n",
    "    [3, 1, 6]\n",
    "]\n",
    "\n",
    "Ys = [8, 5, 10]\n",
    "\n",
    "print(\"Dominant:\", diagonal_dominant(Xs))\n",
    "print(\"Gauss: \")\n",
    "gauss_seidel(Xs, Ys)"
   ]
  },
  {
   "cell_type": "code",
   "execution_count": null,
   "id": "6c1ffed7",
   "metadata": {},
   "outputs": [],
   "source": []
  }
 ],
 "metadata": {
  "kernelspec": {
   "display_name": "Python 3",
   "language": "python",
   "name": "python3"
  },
  "language_info": {
   "codemirror_mode": {
    "name": "ipython",
    "version": 3
   },
   "file_extension": ".py",
   "mimetype": "text/x-python",
   "name": "python",
   "nbconvert_exporter": "python",
   "pygments_lexer": "ipython3",
   "version": "3.12.4"
  }
 },
 "nbformat": 4,
 "nbformat_minor": 5
}
